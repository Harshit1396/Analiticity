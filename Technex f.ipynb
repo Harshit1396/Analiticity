{
 "cells": [
  {
   "cell_type": "code",
   "execution_count": 2,
   "metadata": {},
   "outputs": [
    {
     "name": "stdout",
     "output_type": "stream",
     "text": [
      "Populating the interactive namespace from numpy and matplotlib\n"
     ]
    }
   ],
   "source": [
    "import pandas as pd\n",
    "import numpy as np\n",
    "% pylab inline  \n",
    "import seaborn as sns\n",
    "import matplotlib.pyplot as plt"
   ]
  },
  {
   "cell_type": "code",
   "execution_count": 3,
   "metadata": {
    "collapsed": true
   },
   "outputs": [],
   "source": [
    "# Import train and test file\n",
    "train = pd.read_csv('B:/Case studies/Technex/train.csv')\n",
    "test = pd.read_csv('B:/Case studies/Technex/test.csv')"
   ]
  },
  {
   "cell_type": "code",
   "execution_count": 4,
   "metadata": {},
   "outputs": [
    {
     "data": {
      "text/html": [
       "<div>\n",
       "<style scoped>\n",
       "    .dataframe tbody tr th:only-of-type {\n",
       "        vertical-align: middle;\n",
       "    }\n",
       "\n",
       "    .dataframe tbody tr th {\n",
       "        vertical-align: top;\n",
       "    }\n",
       "\n",
       "    .dataframe thead th {\n",
       "        text-align: right;\n",
       "    }\n",
       "</style>\n",
       "<table border=\"1\" class=\"dataframe\">\n",
       "  <thead>\n",
       "    <tr style=\"text-align: right;\">\n",
       "      <th></th>\n",
       "      <th>LOAN_ID</th>\n",
       "      <th>AMOUNT</th>\n",
       "      <th>DUE_MORTGAGE</th>\n",
       "      <th>VALUE</th>\n",
       "      <th>REASON</th>\n",
       "      <th>OCC</th>\n",
       "      <th>TJOB</th>\n",
       "      <th>DCL</th>\n",
       "      <th>CLT</th>\n",
       "      <th>CL_COUNT</th>\n",
       "      <th>RATIO</th>\n",
       "      <th>CONVICTED</th>\n",
       "      <th>VAR_1</th>\n",
       "      <th>VAR_2</th>\n",
       "      <th>VAR_3</th>\n",
       "      <th>DEFAULTER</th>\n",
       "    </tr>\n",
       "  </thead>\n",
       "  <tbody>\n",
       "    <tr>\n",
       "      <th>0</th>\n",
       "      <td>3682648</td>\n",
       "      <td>15100</td>\n",
       "      <td>71168.0</td>\n",
       "      <td>97480.0</td>\n",
       "      <td>1.0</td>\n",
       "      <td>0.0</td>\n",
       "      <td>9.0</td>\n",
       "      <td>0.0</td>\n",
       "      <td>119.166667</td>\n",
       "      <td>19.0</td>\n",
       "      <td>NaN</td>\n",
       "      <td>0</td>\n",
       "      <td>0</td>\n",
       "      <td>1</td>\n",
       "      <td>2.0095</td>\n",
       "      <td>1</td>\n",
       "    </tr>\n",
       "    <tr>\n",
       "      <th>1</th>\n",
       "      <td>3682649</td>\n",
       "      <td>21100</td>\n",
       "      <td>81747.0</td>\n",
       "      <td>109840.0</td>\n",
       "      <td>1.0</td>\n",
       "      <td>0.0</td>\n",
       "      <td>NaN</td>\n",
       "      <td>0.0</td>\n",
       "      <td>174.786162</td>\n",
       "      <td>24.0</td>\n",
       "      <td>40.067527</td>\n",
       "      <td>0</td>\n",
       "      <td>0</td>\n",
       "      <td>1</td>\n",
       "      <td>1.2724</td>\n",
       "      <td>0</td>\n",
       "    </tr>\n",
       "    <tr>\n",
       "      <th>2</th>\n",
       "      <td>3682650</td>\n",
       "      <td>15900</td>\n",
       "      <td>94262.0</td>\n",
       "      <td>128414.0</td>\n",
       "      <td>1.0</td>\n",
       "      <td>3.0</td>\n",
       "      <td>4.0</td>\n",
       "      <td>NaN</td>\n",
       "      <td>242.736126</td>\n",
       "      <td>42.0</td>\n",
       "      <td>39.231892</td>\n",
       "      <td>1</td>\n",
       "      <td>0</td>\n",
       "      <td>2</td>\n",
       "      <td>1.4725</td>\n",
       "      <td>0</td>\n",
       "    </tr>\n",
       "    <tr>\n",
       "      <th>3</th>\n",
       "      <td>3682651</td>\n",
       "      <td>12900</td>\n",
       "      <td>110899.0</td>\n",
       "      <td>124480.0</td>\n",
       "      <td>1.0</td>\n",
       "      <td>2.0</td>\n",
       "      <td>7.0</td>\n",
       "      <td>0.0</td>\n",
       "      <td>204.900000</td>\n",
       "      <td>40.0</td>\n",
       "      <td>NaN</td>\n",
       "      <td>0</td>\n",
       "      <td>1</td>\n",
       "      <td>2</td>\n",
       "      <td>1.5701</td>\n",
       "      <td>1</td>\n",
       "    </tr>\n",
       "    <tr>\n",
       "      <th>4</th>\n",
       "      <td>3682652</td>\n",
       "      <td>24600</td>\n",
       "      <td>NaN</td>\n",
       "      <td>35523.0</td>\n",
       "      <td>0.0</td>\n",
       "      <td>0.0</td>\n",
       "      <td>21.0</td>\n",
       "      <td>0.0</td>\n",
       "      <td>84.111988</td>\n",
       "      <td>15.0</td>\n",
       "      <td>29.865634</td>\n",
       "      <td>0</td>\n",
       "      <td>0</td>\n",
       "      <td>1</td>\n",
       "      <td>1.5013</td>\n",
       "      <td>0</td>\n",
       "    </tr>\n",
       "  </tbody>\n",
       "</table>\n",
       "</div>"
      ],
      "text/plain": [
       "   LOAN_ID  AMOUNT  DUE_MORTGAGE     VALUE  REASON  OCC  TJOB  DCL  \\\n",
       "0  3682648   15100       71168.0   97480.0     1.0  0.0   9.0  0.0   \n",
       "1  3682649   21100       81747.0  109840.0     1.0  0.0   NaN  0.0   \n",
       "2  3682650   15900       94262.0  128414.0     1.0  3.0   4.0  NaN   \n",
       "3  3682651   12900      110899.0  124480.0     1.0  2.0   7.0  0.0   \n",
       "4  3682652   24600           NaN   35523.0     0.0  0.0  21.0  0.0   \n",
       "\n",
       "          CLT  CL_COUNT      RATIO  CONVICTED  VAR_1  VAR_2   VAR_3  DEFAULTER  \n",
       "0  119.166667      19.0        NaN          0      0      1  2.0095          1  \n",
       "1  174.786162      24.0  40.067527          0      0      1  1.2724          0  \n",
       "2  242.736126      42.0  39.231892          1      0      2  1.4725          0  \n",
       "3  204.900000      40.0        NaN          0      1      2  1.5701          1  \n",
       "4   84.111988      15.0  29.865634          0      0      1  1.5013          0  "
      ]
     },
     "execution_count": 4,
     "metadata": {},
     "output_type": "execute_result"
    }
   ],
   "source": [
    "train.head()"
   ]
  },
  {
   "cell_type": "code",
   "execution_count": 5,
   "metadata": {},
   "outputs": [
    {
     "data": {
      "text/plain": [
       "LOAN_ID           0\n",
       "AMOUNT            0\n",
       "DUE_MORTGAGE    318\n",
       "VALUE            67\n",
       "REASON          157\n",
       "OCC             173\n",
       "TJOB            309\n",
       "DCL             337\n",
       "CLT             187\n",
       "CL_COUNT        130\n",
       "RATIO           751\n",
       "CONVICTED         0\n",
       "VAR_1             0\n",
       "VAR_2             0\n",
       "VAR_3             0\n",
       "DEFAULTER         0\n",
       "dtype: int64"
      ]
     },
     "execution_count": 5,
     "metadata": {},
     "output_type": "execute_result"
    }
   ],
   "source": [
    "train.isnull().sum()"
   ]
  },
  {
   "cell_type": "code",
   "execution_count": 6,
   "metadata": {},
   "outputs": [
    {
     "data": {
      "text/plain": [
       "LOAN_ID           0\n",
       "AMOUNT            0\n",
       "DUE_MORTGAGE     67\n",
       "VALUE            63\n",
       "REASON           23\n",
       "OCC              13\n",
       "TJOB             41\n",
       "DCL              41\n",
       "CLT              49\n",
       "CL_COUNT         30\n",
       "RATIO           463\n",
       "CONVICTED         0\n",
       "VAR_1             0\n",
       "VAR_2             0\n",
       "VAR_3             0\n",
       "DEFAULTER         0\n",
       "dtype: int64"
      ]
     },
     "execution_count": 6,
     "metadata": {},
     "output_type": "execute_result"
    }
   ],
   "source": [
    "train[train['DEFAULTER'] == 1].isnull().sum()"
   ]
  },
  {
   "cell_type": "code",
   "execution_count": 7,
   "metadata": {},
   "outputs": [
    {
     "data": {
      "text/plain": [
       "1    49\n",
       "Name: DEFAULTER, dtype: int64"
      ]
     },
     "execution_count": 7,
     "metadata": {},
     "output_type": "execute_result"
    }
   ],
   "source": [
    "train[(train['VALUE'].isnull()) & (train['RATIO'].isnull())]['DEFAULTER'].value_counts()"
   ]
  },
  {
   "cell_type": "markdown",
   "metadata": {},
   "source": [
    "It is well clear from above code for all those values for which VALUE and RATIO are unknown we will get defaulters ony"
   ]
  },
  {
   "cell_type": "code",
   "execution_count": 8,
   "metadata": {},
   "outputs": [
    {
     "data": {
      "text/html": [
       "<div>\n",
       "<style scoped>\n",
       "    .dataframe tbody tr th:only-of-type {\n",
       "        vertical-align: middle;\n",
       "    }\n",
       "\n",
       "    .dataframe tbody tr th {\n",
       "        vertical-align: top;\n",
       "    }\n",
       "\n",
       "    .dataframe thead th {\n",
       "        text-align: right;\n",
       "    }\n",
       "</style>\n",
       "<table border=\"1\" class=\"dataframe\">\n",
       "  <thead>\n",
       "    <tr style=\"text-align: right;\">\n",
       "      <th>DEFAULTER</th>\n",
       "      <th>0</th>\n",
       "      <th>1</th>\n",
       "    </tr>\n",
       "    <tr>\n",
       "      <th>VAR_1</th>\n",
       "      <th></th>\n",
       "      <th></th>\n",
       "    </tr>\n",
       "  </thead>\n",
       "  <tbody>\n",
       "    <tr>\n",
       "      <th>0</th>\n",
       "      <td>2628</td>\n",
       "      <td>505</td>\n",
       "    </tr>\n",
       "    <tr>\n",
       "      <th>1</th>\n",
       "      <td>174</td>\n",
       "      <td>102</td>\n",
       "    </tr>\n",
       "    <tr>\n",
       "      <th>2</th>\n",
       "      <td>52</td>\n",
       "      <td>46</td>\n",
       "    </tr>\n",
       "    <tr>\n",
       "      <th>3</th>\n",
       "      <td>5</td>\n",
       "      <td>25</td>\n",
       "    </tr>\n",
       "    <tr>\n",
       "      <th>4</th>\n",
       "      <td>4</td>\n",
       "      <td>11</td>\n",
       "    </tr>\n",
       "    <tr>\n",
       "      <th>5</th>\n",
       "      <td>3</td>\n",
       "      <td>3</td>\n",
       "    </tr>\n",
       "    <tr>\n",
       "      <th>6</th>\n",
       "      <td>3</td>\n",
       "      <td>5</td>\n",
       "    </tr>\n",
       "    <tr>\n",
       "      <th>7</th>\n",
       "      <td>0</td>\n",
       "      <td>3</td>\n",
       "    </tr>\n",
       "    <tr>\n",
       "      <th>8</th>\n",
       "      <td>0</td>\n",
       "      <td>4</td>\n",
       "    </tr>\n",
       "    <tr>\n",
       "      <th>9</th>\n",
       "      <td>0</td>\n",
       "      <td>2</td>\n",
       "    </tr>\n",
       "    <tr>\n",
       "      <th>10</th>\n",
       "      <td>0</td>\n",
       "      <td>1</td>\n",
       "    </tr>\n",
       "  </tbody>\n",
       "</table>\n",
       "</div>"
      ],
      "text/plain": [
       "DEFAULTER     0    1\n",
       "VAR_1               \n",
       "0          2628  505\n",
       "1           174  102\n",
       "2            52   46\n",
       "3             5   25\n",
       "4             4   11\n",
       "5             3    3\n",
       "6             3    5\n",
       "7             0    3\n",
       "8             0    4\n",
       "9             0    2\n",
       "10            0    1"
      ]
     },
     "execution_count": 8,
     "metadata": {},
     "output_type": "execute_result"
    }
   ],
   "source": [
    "pd.crosstab(train['VAR_1'],train['DEFAULTER'])"
   ]
  },
  {
   "cell_type": "code",
   "execution_count": 9,
   "metadata": {},
   "outputs": [
    {
     "data": {
      "text/html": [
       "<div>\n",
       "<style scoped>\n",
       "    .dataframe tbody tr th:only-of-type {\n",
       "        vertical-align: middle;\n",
       "    }\n",
       "\n",
       "    .dataframe tbody tr th {\n",
       "        vertical-align: top;\n",
       "    }\n",
       "\n",
       "    .dataframe thead th {\n",
       "        text-align: right;\n",
       "    }\n",
       "</style>\n",
       "<table border=\"1\" class=\"dataframe\">\n",
       "  <thead>\n",
       "    <tr style=\"text-align: right;\">\n",
       "      <th>DEFAULTER</th>\n",
       "      <th>0</th>\n",
       "      <th>1</th>\n",
       "    </tr>\n",
       "    <tr>\n",
       "      <th>CONVICTED</th>\n",
       "      <th></th>\n",
       "      <th></th>\n",
       "    </tr>\n",
       "  </thead>\n",
       "  <tbody>\n",
       "    <tr>\n",
       "      <th>0</th>\n",
       "      <td>2372</td>\n",
       "      <td>592</td>\n",
       "    </tr>\n",
       "    <tr>\n",
       "      <th>1</th>\n",
       "      <td>497</td>\n",
       "      <td>115</td>\n",
       "    </tr>\n",
       "  </tbody>\n",
       "</table>\n",
       "</div>"
      ],
      "text/plain": [
       "DEFAULTER     0    1\n",
       "CONVICTED           \n",
       "0          2372  592\n",
       "1           497  115"
      ]
     },
     "execution_count": 9,
     "metadata": {},
     "output_type": "execute_result"
    }
   ],
   "source": [
    "pd.crosstab(train['CONVICTED'],train['DEFAULTER'])"
   ]
  },
  {
   "cell_type": "code",
   "execution_count": 10,
   "metadata": {
    "collapsed": true
   },
   "outputs": [],
   "source": [
    "# Removing Test id which is of no use\n",
    "test.drop('TEST_ID',axis = 1,inplace = True)"
   ]
  },
  {
   "cell_type": "code",
   "execution_count": 11,
   "metadata": {},
   "outputs": [
    {
     "name": "stdout",
     "output_type": "stream",
     "text": [
      "1.0    2361\n",
      "0.0    1058\n",
      "Name: REASON, dtype: int64\n",
      "__________________________________________________\n",
      "0.0    1433\n",
      "4.0     756\n",
      "1.0     574\n",
      "3.0     470\n",
      "5.0     108\n",
      "2.0      62\n",
      "Name: OCC, dtype: int64\n",
      "__________________________________________________\n",
      "0    2964\n",
      "1     612\n",
      "Name: CONVICTED, dtype: int64\n",
      "__________________________________________________\n",
      "0.0     2545\n",
      "1.0      383\n",
      "2.0      140\n",
      "3.0       74\n",
      "4.0       49\n",
      "5.0       20\n",
      "6.0       14\n",
      "7.0        6\n",
      "8.0        3\n",
      "10.0       2\n",
      "15.0       1\n",
      "11.0       1\n",
      "12.0       1\n",
      "Name: DCL, dtype: int64\n",
      "__________________________________________________\n",
      "0    2869\n",
      "1     707\n",
      "Name: DEFAULTER, dtype: int64\n",
      "__________________________________________________\n"
     ]
    }
   ],
   "source": [
    "# Value counts\n",
    "for i in ['REASON','OCC','CONVICTED','DCL','DEFAULTER']:\n",
    "    print(train[i].value_counts())\n",
    "    print('_'*50)"
   ]
  },
  {
   "cell_type": "code",
   "execution_count": 12,
   "metadata": {},
   "outputs": [
    {
     "name": "stdout",
     "output_type": "stream",
     "text": [
      "1.0    1567\n",
      "0.0     722\n",
      "Name: REASON, dtype: int64\n",
      "__________________________________________________\n",
      "0.0    955\n",
      "4.0    520\n",
      "1.0    374\n",
      "3.0    297\n",
      "5.0     85\n",
      "2.0     47\n",
      "Name: OCC, dtype: int64\n",
      "__________________________________________________\n",
      "0    1977\n",
      "1     407\n",
      "Name: CONVICTED, dtype: int64\n",
      "__________________________________________________\n",
      "0.0     1634\n",
      "1.0      271\n",
      "2.0      110\n",
      "3.0       55\n",
      "4.0       29\n",
      "5.0       18\n",
      "6.0       13\n",
      "7.0        7\n",
      "8.0        2\n",
      "13.0       1\n",
      "11.0       1\n",
      "Name: DCL, dtype: int64\n",
      "__________________________________________________\n"
     ]
    }
   ],
   "source": [
    "# value counts\n",
    "for i in ['REASON','OCC','CONVICTED','DCL']:\n",
    "    print(test[i].value_counts())\n",
    "    print('_'*50)"
   ]
  },
  {
   "cell_type": "code",
   "execution_count": 13,
   "metadata": {},
   "outputs": [
    {
     "data": {
      "text/plain": [
       "<matplotlib.collections.PathCollection at 0x2b42e51c748>"
      ]
     },
     "execution_count": 13,
     "metadata": {},
     "output_type": "execute_result"
    },
    {
     "data": {
      "image/png": "[encoded data removed]",
      "text/plain": [
       "<matplotlib.figure.Figure at 0x2b42e11f828>"
      ]
     },
     "metadata": {},
     "output_type": "display_data"
    }
   ],
   "source": [
    "plt.scatter(train['VALUE'],train['DUE_MORTGAGE'])"
   ]
  },
  {
   "cell_type": "markdown",
   "metadata": {},
   "source": [
    "Using log to deal with outliers and therefore we will get normal distribution."
   ]
  },
  {
   "cell_type": "code",
   "execution_count": 14,
   "metadata": {},
   "outputs": [
    {
     "data": {
      "text/plain": [
       "(array([  667.,  1488.,   950.,   255.,   111.,    66.,    12.,    11.,\n",
       "            9.,     7.]),\n",
       " array([  1200.,  10070.,  18940.,  27810.,  36680.,  45550.,  54420.,\n",
       "         63290.,  72160.,  81030.,  89900.]),\n",
       " <a list of 10 Patch objects>)"
      ]
     },
     "execution_count": 14,
     "metadata": {},
     "output_type": "execute_result"
    },
    {
     "data": {
      "image/png": "[encoded data removed]",
      "text/plain": [
       "<matplotlib.figure.Figure at 0x2b42e113d68>"
      ]
     },
     "metadata": {},
     "output_type": "display_data"
    }
   ],
   "source": [
    "plt.hist(train['AMOUNT'])"
   ]
  },
  {
   "cell_type": "code",
   "execution_count": 15,
   "metadata": {},
   "outputs": [
    {
     "data": {
      "text/plain": [
       "<matplotlib.axes._subplots.AxesSubplot at 0x2b42f5dc438>"
      ]
     },
     "execution_count": 15,
     "metadata": {},
     "output_type": "execute_result"
    },
    {
     "data": {
      "image/png": "[encoded data removed]",
      "text/plain": [
       "<matplotlib.figure.Figure at 0x2b42f599400>"
      ]
     },
     "metadata": {},
     "output_type": "display_data"
    }
   ],
   "source": [
    "(train['VALUE']).hist()"
   ]
  },
  {
   "cell_type": "code",
   "execution_count": 16,
   "metadata": {},
   "outputs": [
    {
     "data": {
      "text/plain": [
       "<matplotlib.axes._subplots.AxesSubplot at 0x2b42f659dd8>"
      ]
     },
     "execution_count": 16,
     "metadata": {},
     "output_type": "execute_result"
    },
    {
     "data": {
      "image/png": "[encoded data removed]",
      "text/plain": [
       "<matplotlib.figure.Figure at 0x2b42f6546a0>"
      ]
     },
     "metadata": {},
     "output_type": "display_data"
    }
   ],
   "source": [
    "(train['DUE_MORTGAGE']).hist()"
   ]
  },
  {
   "cell_type": "code",
   "execution_count": 17,
   "metadata": {},
   "outputs": [
    {
     "data": {
      "text/plain": [
       "(array([    3.,    18.,    49.,   188.,   494.,   957.,  1100.,   563.,\n",
       "          167.,    37.]),\n",
       " array([  7.09007684,   7.52171447,   7.95335211,   8.38498975,\n",
       "          8.81662739,   9.24826503,   9.67990267,  10.11154031,\n",
       "         10.54317794,  10.97481558,  11.40645322]),\n",
       " <a list of 10 Patch objects>)"
      ]
     },
     "execution_count": 17,
     "metadata": {},
     "output_type": "execute_result"
    },
    {
     "data": {
      "image/png": "[encoded data removed]",
      "text/plain": [
       "<matplotlib.figure.Figure at 0x2b42f716c50>"
      ]
     },
     "metadata": {},
     "output_type": "display_data"
    }
   ],
   "source": [
    "plt.hist(np.log(train['AMOUNT']))"
   ]
  },
  {
   "cell_type": "code",
   "execution_count": 18,
   "metadata": {},
   "outputs": [
    {
     "data": {
      "text/plain": [
       "<matplotlib.axes._subplots.AxesSubplot at 0x2b42f890d30>"
      ]
     },
     "execution_count": 18,
     "metadata": {},
     "output_type": "execute_result"
    },
    {
     "data": {
      "image/png": "[encoded data removed]",
      "text/plain": [
       "<matplotlib.figure.Figure at 0x2b42f86d7b8>"
      ]
     },
     "metadata": {},
     "output_type": "display_data"
    }
   ],
   "source": [
    "np.log(train['VALUE']).hist()"
   ]
  },
  {
   "cell_type": "code",
   "execution_count": 19,
   "metadata": {},
   "outputs": [
    {
     "data": {
      "text/plain": [
       "<matplotlib.axes._subplots.AxesSubplot at 0x2b42f9547b8>"
      ]
     },
     "execution_count": 19,
     "metadata": {},
     "output_type": "execute_result"
    },
    {
     "data": {
      "image/png": "[encoded data removed]",
      "text/plain": [
       "<matplotlib.figure.Figure at 0x2b42f934358>"
      ]
     },
     "metadata": {},
     "output_type": "display_data"
    }
   ],
   "source": [
    "np.log(train['DUE_MORTGAGE']).hist()"
   ]
  },
  {
   "cell_type": "code",
   "execution_count": 20,
   "metadata": {
    "collapsed": true
   },
   "outputs": [],
   "source": [
    "# setting guess value for combing train and test\n",
    "test['DEFAULTER'] = 1"
   ]
  },
  {
   "cell_type": "code",
   "execution_count": 21,
   "metadata": {
    "collapsed": true
   },
   "outputs": [],
   "source": [
    "# merging\n",
    "combi = pd.concat([train,test])"
   ]
  },
  {
   "cell_type": "code",
   "execution_count": 22,
   "metadata": {},
   "outputs": [
    {
     "data": {
      "text/plain": [
       "LOAN_ID            0\n",
       "AMOUNT             0\n",
       "DUE_MORTGAGE     518\n",
       "VALUE            112\n",
       "REASON           252\n",
       "OCC              279\n",
       "TJOB             515\n",
       "DCL              580\n",
       "CLT              308\n",
       "CL_COUNT         222\n",
       "RATIO           1267\n",
       "CONVICTED          0\n",
       "VAR_1              0\n",
       "VAR_2              0\n",
       "VAR_3              0\n",
       "DEFAULTER          0\n",
       "dtype: int64"
      ]
     },
     "execution_count": 22,
     "metadata": {},
     "output_type": "execute_result"
    }
   ],
   "source": [
    "combi.isnull().sum()"
   ]
  },
  {
   "cell_type": "code",
   "execution_count": 23,
   "metadata": {},
   "outputs": [
    {
     "data": {
      "text/html": [
       "<div>\n",
       "<style scoped>\n",
       "    .dataframe tbody tr th:only-of-type {\n",
       "        vertical-align: middle;\n",
       "    }\n",
       "\n",
       "    .dataframe tbody tr th {\n",
       "        vertical-align: top;\n",
       "    }\n",
       "\n",
       "    .dataframe thead th {\n",
       "        text-align: right;\n",
       "    }\n",
       "</style>\n",
       "<table border=\"1\" class=\"dataframe\">\n",
       "  <thead>\n",
       "    <tr style=\"text-align: right;\">\n",
       "      <th></th>\n",
       "      <th>LOAN_ID</th>\n",
       "      <th>AMOUNT</th>\n",
       "      <th>DUE_MORTGAGE</th>\n",
       "      <th>VALUE</th>\n",
       "      <th>REASON</th>\n",
       "      <th>OCC</th>\n",
       "      <th>TJOB</th>\n",
       "      <th>DCL</th>\n",
       "      <th>CLT</th>\n",
       "      <th>CL_COUNT</th>\n",
       "      <th>RATIO</th>\n",
       "      <th>CONVICTED</th>\n",
       "      <th>VAR_1</th>\n",
       "      <th>VAR_2</th>\n",
       "      <th>VAR_3</th>\n",
       "      <th>DEFAULTER</th>\n",
       "    </tr>\n",
       "  </thead>\n",
       "  <tbody>\n",
       "    <tr>\n",
       "      <th>LOAN_ID</th>\n",
       "      <td>1.000000</td>\n",
       "      <td>0.019023</td>\n",
       "      <td>-0.017103</td>\n",
       "      <td>-0.005701</td>\n",
       "      <td>-0.006836</td>\n",
       "      <td>-0.005867</td>\n",
       "      <td>-0.001498</td>\n",
       "      <td>0.015087</td>\n",
       "      <td>-0.013524</td>\n",
       "      <td>0.008266</td>\n",
       "      <td>0.012663</td>\n",
       "      <td>-0.003106</td>\n",
       "      <td>0.013870</td>\n",
       "      <td>-0.007588</td>\n",
       "      <td>-0.009381</td>\n",
       "      <td>0.669574</td>\n",
       "    </tr>\n",
       "    <tr>\n",
       "      <th>AMOUNT</th>\n",
       "      <td>0.019023</td>\n",
       "      <td>1.000000</td>\n",
       "      <td>0.228595</td>\n",
       "      <td>0.335393</td>\n",
       "      <td>0.161406</td>\n",
       "      <td>0.093876</td>\n",
       "      <td>0.105728</td>\n",
       "      <td>-0.035144</td>\n",
       "      <td>0.088540</td>\n",
       "      <td>0.072631</td>\n",
       "      <td>0.084735</td>\n",
       "      <td>0.016344</td>\n",
       "      <td>0.006996</td>\n",
       "      <td>0.055619</td>\n",
       "      <td>-0.002921</td>\n",
       "      <td>-0.024485</td>\n",
       "    </tr>\n",
       "    <tr>\n",
       "      <th>DUE_MORTGAGE</th>\n",
       "      <td>-0.017103</td>\n",
       "      <td>0.228595</td>\n",
       "      <td>1.000000</td>\n",
       "      <td>0.875666</td>\n",
       "      <td>0.027596</td>\n",
       "      <td>0.339060</td>\n",
       "      <td>-0.088480</td>\n",
       "      <td>-0.001044</td>\n",
       "      <td>0.140047</td>\n",
       "      <td>0.323631</td>\n",
       "      <td>0.154939</td>\n",
       "      <td>0.003814</td>\n",
       "      <td>-0.049809</td>\n",
       "      <td>0.033954</td>\n",
       "      <td>0.002271</td>\n",
       "      <td>-0.024469</td>\n",
       "    </tr>\n",
       "    <tr>\n",
       "      <th>VALUE</th>\n",
       "      <td>-0.005701</td>\n",
       "      <td>0.335393</td>\n",
       "      <td>0.875666</td>\n",
       "      <td>1.000000</td>\n",
       "      <td>0.003989</td>\n",
       "      <td>0.341063</td>\n",
       "      <td>0.007759</td>\n",
       "      <td>-0.014103</td>\n",
       "      <td>0.171238</td>\n",
       "      <td>0.269149</td>\n",
       "      <td>0.132174</td>\n",
       "      <td>0.014295</td>\n",
       "      <td>-0.042602</td>\n",
       "      <td>0.008236</td>\n",
       "      <td>-0.006553</td>\n",
       "      <td>-0.017252</td>\n",
       "    </tr>\n",
       "    <tr>\n",
       "      <th>REASON</th>\n",
       "      <td>-0.006836</td>\n",
       "      <td>0.161406</td>\n",
       "      <td>0.027596</td>\n",
       "      <td>0.003989</td>\n",
       "      <td>1.000000</td>\n",
       "      <td>-0.031022</td>\n",
       "      <td>-0.051813</td>\n",
       "      <td>-0.006185</td>\n",
       "      <td>-0.058201</td>\n",
       "      <td>0.116218</td>\n",
       "      <td>0.057394</td>\n",
       "      <td>0.014980</td>\n",
       "      <td>0.007368</td>\n",
       "      <td>0.127373</td>\n",
       "      <td>-0.006337</td>\n",
       "      <td>-0.016572</td>\n",
       "    </tr>\n",
       "    <tr>\n",
       "      <th>OCC</th>\n",
       "      <td>-0.005867</td>\n",
       "      <td>0.093876</td>\n",
       "      <td>0.339060</td>\n",
       "      <td>0.341063</td>\n",
       "      <td>-0.031022</td>\n",
       "      <td>1.000000</td>\n",
       "      <td>-0.040466</td>\n",
       "      <td>0.023406</td>\n",
       "      <td>0.082103</td>\n",
       "      <td>0.203929</td>\n",
       "      <td>-0.039253</td>\n",
       "      <td>0.000474</td>\n",
       "      <td>-0.023708</td>\n",
       "      <td>-0.028334</td>\n",
       "      <td>0.024116</td>\n",
       "      <td>-0.009579</td>\n",
       "    </tr>\n",
       "    <tr>\n",
       "      <th>TJOB</th>\n",
       "      <td>-0.001498</td>\n",
       "      <td>0.105728</td>\n",
       "      <td>-0.088480</td>\n",
       "      <td>0.007759</td>\n",
       "      <td>-0.051813</td>\n",
       "      <td>-0.040466</td>\n",
       "      <td>1.000000</td>\n",
       "      <td>0.038153</td>\n",
       "      <td>0.201718</td>\n",
       "      <td>0.024838</td>\n",
       "      <td>-0.055891</td>\n",
       "      <td>-0.008691</td>\n",
       "      <td>-0.060193</td>\n",
       "      <td>-0.058327</td>\n",
       "      <td>-0.008962</td>\n",
       "      <td>-0.025317</td>\n",
       "    </tr>\n",
       "    <tr>\n",
       "      <th>DCL</th>\n",
       "      <td>0.015087</td>\n",
       "      <td>-0.035144</td>\n",
       "      <td>-0.001044</td>\n",
       "      <td>-0.014103</td>\n",
       "      <td>-0.006185</td>\n",
       "      <td>0.023406</td>\n",
       "      <td>0.038153</td>\n",
       "      <td>1.000000</td>\n",
       "      <td>0.022488</td>\n",
       "      <td>0.164639</td>\n",
       "      <td>0.052364</td>\n",
       "      <td>-0.000954</td>\n",
       "      <td>0.180975</td>\n",
       "      <td>0.060114</td>\n",
       "      <td>0.009023</td>\n",
       "      <td>0.169489</td>\n",
       "    </tr>\n",
       "    <tr>\n",
       "      <th>CLT</th>\n",
       "      <td>-0.013524</td>\n",
       "      <td>0.088540</td>\n",
       "      <td>0.140047</td>\n",
       "      <td>0.171238</td>\n",
       "      <td>-0.058201</td>\n",
       "      <td>0.082103</td>\n",
       "      <td>0.201718</td>\n",
       "      <td>0.022488</td>\n",
       "      <td>1.000000</td>\n",
       "      <td>0.237987</td>\n",
       "      <td>-0.046477</td>\n",
       "      <td>0.016955</td>\n",
       "      <td>-0.081256</td>\n",
       "      <td>-0.109060</td>\n",
       "      <td>-0.010281</td>\n",
       "      <td>-0.100071</td>\n",
       "    </tr>\n",
       "    <tr>\n",
       "      <th>CL_COUNT</th>\n",
       "      <td>0.008266</td>\n",
       "      <td>0.072631</td>\n",
       "      <td>0.323631</td>\n",
       "      <td>0.269149</td>\n",
       "      <td>0.116218</td>\n",
       "      <td>0.203929</td>\n",
       "      <td>0.024838</td>\n",
       "      <td>0.164639</td>\n",
       "      <td>0.237987</td>\n",
       "      <td>1.000000</td>\n",
       "      <td>0.185539</td>\n",
       "      <td>-0.002570</td>\n",
       "      <td>0.050805</td>\n",
       "      <td>0.086256</td>\n",
       "      <td>-0.002762</td>\n",
       "      <td>0.001303</td>\n",
       "    </tr>\n",
       "    <tr>\n",
       "      <th>RATIO</th>\n",
       "      <td>0.012663</td>\n",
       "      <td>0.084735</td>\n",
       "      <td>0.154939</td>\n",
       "      <td>0.132174</td>\n",
       "      <td>0.057394</td>\n",
       "      <td>-0.039253</td>\n",
       "      <td>-0.055891</td>\n",
       "      <td>0.052364</td>\n",
       "      <td>-0.046477</td>\n",
       "      <td>0.185539</td>\n",
       "      <td>1.000000</td>\n",
       "      <td>-0.003603</td>\n",
       "      <td>0.015831</td>\n",
       "      <td>0.155185</td>\n",
       "      <td>-0.009439</td>\n",
       "      <td>0.077851</td>\n",
       "    </tr>\n",
       "    <tr>\n",
       "      <th>CONVICTED</th>\n",
       "      <td>-0.003106</td>\n",
       "      <td>0.016344</td>\n",
       "      <td>0.003814</td>\n",
       "      <td>0.014295</td>\n",
       "      <td>0.014980</td>\n",
       "      <td>0.000474</td>\n",
       "      <td>-0.008691</td>\n",
       "      <td>-0.000954</td>\n",
       "      <td>0.016955</td>\n",
       "      <td>-0.002570</td>\n",
       "      <td>-0.003603</td>\n",
       "      <td>1.000000</td>\n",
       "      <td>-0.005912</td>\n",
       "      <td>0.026919</td>\n",
       "      <td>0.002275</td>\n",
       "      <td>-0.005778</td>\n",
       "    </tr>\n",
       "    <tr>\n",
       "      <th>VAR_1</th>\n",
       "      <td>0.013870</td>\n",
       "      <td>0.006996</td>\n",
       "      <td>-0.049809</td>\n",
       "      <td>-0.042602</td>\n",
       "      <td>0.007368</td>\n",
       "      <td>-0.023708</td>\n",
       "      <td>-0.060193</td>\n",
       "      <td>0.180975</td>\n",
       "      <td>-0.081256</td>\n",
       "      <td>0.050805</td>\n",
       "      <td>0.015831</td>\n",
       "      <td>-0.005912</td>\n",
       "      <td>1.000000</td>\n",
       "      <td>0.143596</td>\n",
       "      <td>0.020967</td>\n",
       "      <td>0.126853</td>\n",
       "    </tr>\n",
       "    <tr>\n",
       "      <th>VAR_2</th>\n",
       "      <td>-0.007588</td>\n",
       "      <td>0.055619</td>\n",
       "      <td>0.033954</td>\n",
       "      <td>0.008236</td>\n",
       "      <td>0.127373</td>\n",
       "      <td>-0.028334</td>\n",
       "      <td>-0.058327</td>\n",
       "      <td>0.060114</td>\n",
       "      <td>-0.109060</td>\n",
       "      <td>0.086256</td>\n",
       "      <td>0.155185</td>\n",
       "      <td>0.026919</td>\n",
       "      <td>0.143596</td>\n",
       "      <td>1.000000</td>\n",
       "      <td>-0.027338</td>\n",
       "      <td>0.070634</td>\n",
       "    </tr>\n",
       "    <tr>\n",
       "      <th>VAR_3</th>\n",
       "      <td>-0.009381</td>\n",
       "      <td>-0.002921</td>\n",
       "      <td>0.002271</td>\n",
       "      <td>-0.006553</td>\n",
       "      <td>-0.006337</td>\n",
       "      <td>0.024116</td>\n",
       "      <td>-0.008962</td>\n",
       "      <td>0.009023</td>\n",
       "      <td>-0.010281</td>\n",
       "      <td>-0.002762</td>\n",
       "      <td>-0.009439</td>\n",
       "      <td>0.002275</td>\n",
       "      <td>0.020967</td>\n",
       "      <td>-0.027338</td>\n",
       "      <td>1.000000</td>\n",
       "      <td>0.002924</td>\n",
       "    </tr>\n",
       "    <tr>\n",
       "      <th>DEFAULTER</th>\n",
       "      <td>0.669574</td>\n",
       "      <td>-0.024485</td>\n",
       "      <td>-0.024469</td>\n",
       "      <td>-0.017252</td>\n",
       "      <td>-0.016572</td>\n",
       "      <td>-0.009579</td>\n",
       "      <td>-0.025317</td>\n",
       "      <td>0.169489</td>\n",
       "      <td>-0.100071</td>\n",
       "      <td>0.001303</td>\n",
       "      <td>0.077851</td>\n",
       "      <td>-0.005778</td>\n",
       "      <td>0.126853</td>\n",
       "      <td>0.070634</td>\n",
       "      <td>0.002924</td>\n",
       "      <td>1.000000</td>\n",
       "    </tr>\n",
       "  </tbody>\n",
       "</table>\n",
       "</div>"
      ],
      "text/plain": [
       "               LOAN_ID    AMOUNT  DUE_MORTGAGE     VALUE    REASON       OCC  \\\n",
       "LOAN_ID       1.000000  0.019023     -0.017103 -0.005701 -0.006836 -0.005867   \n",
       "AMOUNT        0.019023  1.000000      0.228595  0.335393  0.161406  0.093876   \n",
       "DUE_MORTGAGE -0.017103  0.228595      1.000000  0.875666  0.027596  0.339060   \n",
       "VALUE        -0.005701  0.335393      0.875666  1.000000  0.003989  0.341063   \n",
       "REASON       -0.006836  0.161406      0.027596  0.003989  1.000000 -0.031022   \n",
       "OCC          -0.005867  0.093876      0.339060  0.341063 -0.031022  1.000000   \n",
       "TJOB         -0.001498  0.105728     -0.088480  0.007759 -0.051813 -0.040466   \n",
       "DCL           0.015087 -0.035144     -0.001044 -0.014103 -0.006185  0.023406   \n",
       "CLT          -0.013524  0.088540      0.140047  0.171238 -0.058201  0.082103   \n",
       "CL_COUNT      0.008266  0.072631      0.323631  0.269149  0.116218  0.203929   \n",
       "RATIO         0.012663  0.084735      0.154939  0.132174  0.057394 -0.039253   \n",
       "CONVICTED    -0.003106  0.016344      0.003814  0.014295  0.014980  0.000474   \n",
       "VAR_1         0.013870  0.006996     -0.049809 -0.042602  0.007368 -0.023708   \n",
       "VAR_2        -0.007588  0.055619      0.033954  0.008236  0.127373 -0.028334   \n",
       "VAR_3        -0.009381 -0.002921      0.002271 -0.006553 -0.006337  0.024116   \n",
       "DEFAULTER     0.669574 -0.024485     -0.024469 -0.017252 -0.016572 -0.009579   \n",
       "\n",
       "                  TJOB       DCL       CLT  CL_COUNT     RATIO  CONVICTED  \\\n",
       "LOAN_ID      -0.001498  0.015087 -0.013524  0.008266  0.012663  -0.003106   \n",
       "AMOUNT        0.105728 -0.035144  0.088540  0.072631  0.084735   0.016344   \n",
       "DUE_MORTGAGE -0.088480 -0.001044  0.140047  0.323631  0.154939   0.003814   \n",
       "VALUE         0.007759 -0.014103  0.171238  0.269149  0.132174   0.014295   \n",
       "REASON       -0.051813 -0.006185 -0.058201  0.116218  0.057394   0.014980   \n",
       "OCC          -0.040466  0.023406  0.082103  0.203929 -0.039253   0.000474   \n",
       "TJOB          1.000000  0.038153  0.201718  0.024838 -0.055891  -0.008691   \n",
       "DCL           0.038153  1.000000  0.022488  0.164639  0.052364  -0.000954   \n",
       "CLT           0.201718  0.022488  1.000000  0.237987 -0.046477   0.016955   \n",
       "CL_COUNT      0.024838  0.164639  0.237987  1.000000  0.185539  -0.002570   \n",
       "RATIO        -0.055891  0.052364 -0.046477  0.185539  1.000000  -0.003603   \n",
       "CONVICTED    -0.008691 -0.000954  0.016955 -0.002570 -0.003603   1.000000   \n",
       "VAR_1        -0.060193  0.180975 -0.081256  0.050805  0.015831  -0.005912   \n",
       "VAR_2        -0.058327  0.060114 -0.109060  0.086256  0.155185   0.026919   \n",
       "VAR_3        -0.008962  0.009023 -0.010281 -0.002762 -0.009439   0.002275   \n",
       "DEFAULTER    -0.025317  0.169489 -0.100071  0.001303  0.077851  -0.005778   \n",
       "\n",
       "                 VAR_1     VAR_2     VAR_3  DEFAULTER  \n",
       "LOAN_ID       0.013870 -0.007588 -0.009381   0.669574  \n",
       "AMOUNT        0.006996  0.055619 -0.002921  -0.024485  \n",
       "DUE_MORTGAGE -0.049809  0.033954  0.002271  -0.024469  \n",
       "VALUE        -0.042602  0.008236 -0.006553  -0.017252  \n",
       "REASON        0.007368  0.127373 -0.006337  -0.016572  \n",
       "OCC          -0.023708 -0.028334  0.024116  -0.009579  \n",
       "TJOB         -0.060193 -0.058327 -0.008962  -0.025317  \n",
       "DCL           0.180975  0.060114  0.009023   0.169489  \n",
       "CLT          -0.081256 -0.109060 -0.010281  -0.100071  \n",
       "CL_COUNT      0.050805  0.086256 -0.002762   0.001303  \n",
       "RATIO         0.015831  0.155185 -0.009439   0.077851  \n",
       "CONVICTED    -0.005912  0.026919  0.002275  -0.005778  \n",
       "VAR_1         1.000000  0.143596  0.020967   0.126853  \n",
       "VAR_2         0.143596  1.000000 -0.027338   0.070634  \n",
       "VAR_3         0.020967 -0.027338  1.000000   0.002924  \n",
       "DEFAULTER     0.126853  0.070634  0.002924   1.000000  "
      ]
     },
     "execution_count": 23,
     "metadata": {},
     "output_type": "execute_result"
    }
   ],
   "source": [
    "# Correlation\n",
    "combi.corr()"
   ]
  },
  {
   "cell_type": "code",
   "execution_count": 24,
   "metadata": {},
   "outputs": [
    {
     "data": {
      "text/plain": [
       "<matplotlib.collections.PathCollection at 0x2b42fa96828>"
      ]
     },
     "execution_count": 24,
     "metadata": {},
     "output_type": "execute_result"
    },
    {
     "data": {
      "image/png": "[encoded data removed]",
      "text/plain": [
       "<matplotlib.figure.Figure at 0x2b42f9f5ef0>"
      ]
     },
     "metadata": {},
     "output_type": "display_data"
    }
   ],
   "source": [
    "plt.scatter(combi['VALUE'],combi['DUE_MORTGAGE'])"
   ]
  },
  {
   "cell_type": "code",
   "execution_count": 25,
   "metadata": {
    "collapsed": true
   },
   "outputs": [],
   "source": [
    "combi.loc[combi['VAR_2'] > 7,'VAR_2'] = 8\n",
    "combi.loc[combi['VAR_1'] > 3,'VAR_1'] = 4"
   ]
  },
  {
   "cell_type": "markdown",
   "metadata": {},
   "source": [
    "Treating Missing Value"
   ]
  },
  {
   "cell_type": "code",
   "execution_count": 26,
   "metadata": {
    "collapsed": true
   },
   "outputs": [],
   "source": [
    "combi['VALUE'].fillna(train[train['DEFAULTER'] == 1]['VALUE'].mean(),inplace=True)"
   ]
  },
  {
   "cell_type": "code",
   "execution_count": 27,
   "metadata": {
    "collapsed": true
   },
   "outputs": [],
   "source": [
    "combi['RATIO'].fillna(train[train['DEFAULTER'] == 1]['RATIO'].mean(),inplace=True)"
   ]
  },
  {
   "cell_type": "code",
   "execution_count": 28,
   "metadata": {
    "collapsed": true
   },
   "outputs": [],
   "source": [
    "combi['DCL'].fillna(combi['DCL'].mean(),inplace=True)"
   ]
  },
  {
   "cell_type": "code",
   "execution_count": 29,
   "metadata": {
    "collapsed": true
   },
   "outputs": [],
   "source": [
    "combi['TJOB'].fillna(combi['TJOB'].mean(),inplace=True)\n",
    "combi['CLT'].fillna(combi['CLT'].mean(),inplace=True)\n",
    "combi['CL_COUNT'].fillna(combi['CL_COUNT'].mean(),inplace=True)"
   ]
  },
  {
   "cell_type": "code",
   "execution_count": 30,
   "metadata": {
    "collapsed": true
   },
   "outputs": [],
   "source": [
    "test_mort = combi[combi['DUE_MORTGAGE'].isnull()]\n",
    "train_mort = combi[~combi['DUE_MORTGAGE'].isnull()]"
   ]
  },
  {
   "cell_type": "code",
   "execution_count": 31,
   "metadata": {
    "collapsed": true
   },
   "outputs": [],
   "source": [
    "train_mort_x = train_mort['VALUE']\n",
    "train_mort_Y = train_mort['DUE_MORTGAGE']\n",
    "test_mort_x = test_mort['VALUE']\n",
    "test_mort_Y = test_mort['DUE_MORTGAGE']"
   ]
  },
  {
   "cell_type": "code",
   "execution_count": 32,
   "metadata": {},
   "outputs": [
    {
     "name": "stderr",
     "output_type": "stream",
     "text": [
      "C:\\Users\\Akhand\\Anaconda3\\lib\\site-packages\\ipykernel_launcher.py:3: FutureWarning: reshape is deprecated and will raise in a subsequent release. Please use .values.reshape(...) instead\n",
      "  This is separate from the ipykernel package so we can avoid doing imports until\n"
     ]
    },
    {
     "data": {
      "text/plain": [
       "LinearRegression(copy_X=True, fit_intercept=True, n_jobs=1, normalize=False)"
      ]
     },
     "execution_count": 32,
     "metadata": {},
     "output_type": "execute_result"
    }
   ],
   "source": [
    "from sklearn import linear_model\n",
    "model = linear_model.LinearRegression()\n",
    "model.fit(train_mort_x.reshape(-1, 1),train_mort_Y)"
   ]
  },
  {
   "cell_type": "code",
   "execution_count": 33,
   "metadata": {},
   "outputs": [
    {
     "name": "stderr",
     "output_type": "stream",
     "text": [
      "C:\\Users\\Akhand\\Anaconda3\\lib\\site-packages\\ipykernel_launcher.py:1: FutureWarning: reshape is deprecated and will raise in a subsequent release. Please use .values.reshape(...) instead\n",
      "  \"\"\"Entry point for launching an IPython kernel.\n"
     ]
    }
   ],
   "source": [
    "prediction = model.predict(test_mort_x.reshape(-1, 1))"
   ]
  },
  {
   "cell_type": "code",
   "execution_count": 34,
   "metadata": {
    "collapsed": true
   },
   "outputs": [],
   "source": [
    "# assigning values \n",
    "combi.loc[combi['DUE_MORTGAGE'].isnull(),'DUE_MORTGAGE'] = prediction"
   ]
  },
  {
   "cell_type": "code",
   "execution_count": 35,
   "metadata": {
    "collapsed": true
   },
   "outputs": [],
   "source": [
    "from sklearn.tree import DecisionTreeClassifier\n",
    "from sklearn.ensemble import RandomForestClassifier\n",
    "from sklearn.metrics import accuracy_score"
   ]
  },
  {
   "cell_type": "code",
   "execution_count": 36,
   "metadata": {},
   "outputs": [
    {
     "name": "stderr",
     "output_type": "stream",
     "text": [
      "C:\\Users\\Akhand\\Anaconda3\\lib\\site-packages\\ipykernel_launcher.py:7: SettingWithCopyWarning: \n",
      "A value is trying to be set on a copy of a slice from a DataFrame\n",
      "\n",
      "See the caveats in the documentation: http://pandas.pydata.org/pandas-docs/stable/indexing.html#indexing-view-versus-copy\n",
      "  import sys\n",
      "C:\\Users\\Akhand\\Anaconda3\\lib\\site-packages\\ipykernel_launcher.py:8: SettingWithCopyWarning: \n",
      "A value is trying to be set on a copy of a slice from a DataFrame\n",
      "\n",
      "See the caveats in the documentation: http://pandas.pydata.org/pandas-docs/stable/indexing.html#indexing-view-versus-copy\n",
      "  \n"
     ]
    }
   ],
   "source": [
    "combi2 = combi\n",
    "combi2.drop('DEFAULTER',axis = 1,inplace = True)\n",
    "x_train_OCC = combi2[~combi2['OCC'].isnull()]\n",
    "x_test_OCC = combi2[combi2['OCC'].isnull()]\n",
    "y_train_OCC = x_train_OCC['OCC']\n",
    "x_train_OCC1 = x_train_OCC\n",
    "x_train_OCC1.drop(x_train_OCC1.columns[3:6],axis = 1,inplace = True)\n",
    "x_test_OCC.drop(x_test_OCC.columns[3:6],axis = 1,inplace = True)"
   ]
  },
  {
   "cell_type": "code",
   "execution_count": 37,
   "metadata": {
    "collapsed": true
   },
   "outputs": [],
   "source": [
    "Model = DecisionTreeClassifier()\n",
    "Model.fit(x_train_OCC1,y_train_OCC)\n",
    "prediction = Model.predict(x_test_OCC)\n",
    "combi.loc[combi['OCC'].isnull(),'OCC'] = prediction"
   ]
  },
  {
   "cell_type": "code",
   "execution_count": 38,
   "metadata": {},
   "outputs": [
    {
     "name": "stderr",
     "output_type": "stream",
     "text": [
      "C:\\Users\\Akhand\\Anaconda3\\lib\\site-packages\\ipykernel_launcher.py:5: SettingWithCopyWarning: \n",
      "A value is trying to be set on a copy of a slice from a DataFrame\n",
      "\n",
      "See the caveats in the documentation: http://pandas.pydata.org/pandas-docs/stable/indexing.html#indexing-view-versus-copy\n",
      "  \"\"\"\n",
      "C:\\Users\\Akhand\\Anaconda3\\lib\\site-packages\\ipykernel_launcher.py:6: SettingWithCopyWarning: \n",
      "A value is trying to be set on a copy of a slice from a DataFrame\n",
      "\n",
      "See the caveats in the documentation: http://pandas.pydata.org/pandas-docs/stable/indexing.html#indexing-view-versus-copy\n",
      "  \n"
     ]
    }
   ],
   "source": [
    "x_train_rea = combi2[~combi2['REASON'].isnull()]\n",
    "x_test_rea = combi2[combi2['REASON'].isnull()]\n",
    "y_train_rea = x_train_rea['REASON']\n",
    "x_train_rea1 = x_train_rea\n",
    "x_train_rea1.drop(x_train_rea1.columns[3:5],axis = 1,inplace = True)\n",
    "x_test_rea.drop(x_test_rea.columns[3:5],axis = 1,inplace = True)"
   ]
  },
  {
   "cell_type": "code",
   "execution_count": 39,
   "metadata": {
    "collapsed": true
   },
   "outputs": [],
   "source": [
    "Model = DecisionTreeClassifier()\n",
    "Model.fit(x_train_rea1,y_train_rea)\n",
    "prediction = Model.predict(x_test_rea)\n",
    "combi.loc[combi['REASON'].isnull(),'REASON'] = prediction"
   ]
  },
  {
   "cell_type": "code",
   "execution_count": 40,
   "metadata": {},
   "outputs": [
    {
     "data": {
      "text/html": [
       "<div>\n",
       "<style scoped>\n",
       "    .dataframe tbody tr th:only-of-type {\n",
       "        vertical-align: middle;\n",
       "    }\n",
       "\n",
       "    .dataframe tbody tr th {\n",
       "        vertical-align: top;\n",
       "    }\n",
       "\n",
       "    .dataframe thead th {\n",
       "        text-align: right;\n",
       "    }\n",
       "</style>\n",
       "<table border=\"1\" class=\"dataframe\">\n",
       "  <thead>\n",
       "    <tr style=\"text-align: right;\">\n",
       "      <th>OCC</th>\n",
       "      <th>0.0</th>\n",
       "      <th>1.0</th>\n",
       "      <th>2.0</th>\n",
       "      <th>3.0</th>\n",
       "      <th>4.0</th>\n",
       "      <th>5.0</th>\n",
       "    </tr>\n",
       "    <tr>\n",
       "      <th>REASON</th>\n",
       "      <th></th>\n",
       "      <th></th>\n",
       "      <th></th>\n",
       "      <th></th>\n",
       "      <th></th>\n",
       "      <th></th>\n",
       "    </tr>\n",
       "  </thead>\n",
       "  <tbody>\n",
       "    <tr>\n",
       "      <th>0.0</th>\n",
       "      <td>807</td>\n",
       "      <td>325</td>\n",
       "      <td>12</td>\n",
       "      <td>180</td>\n",
       "      <td>451</td>\n",
       "      <td>116</td>\n",
       "    </tr>\n",
       "    <tr>\n",
       "      <th>1.0</th>\n",
       "      <td>1699</td>\n",
       "      <td>655</td>\n",
       "      <td>98</td>\n",
       "      <td>606</td>\n",
       "      <td>927</td>\n",
       "      <td>84</td>\n",
       "    </tr>\n",
       "  </tbody>\n",
       "</table>\n",
       "</div>"
      ],
      "text/plain": [
       "OCC      0.0  1.0  2.0  3.0  4.0  5.0\n",
       "REASON                               \n",
       "0.0      807  325   12  180  451  116\n",
       "1.0     1699  655   98  606  927   84"
      ]
     },
     "execution_count": 40,
     "metadata": {},
     "output_type": "execute_result"
    }
   ],
   "source": [
    "pd.crosstab(combi['REASON'],combi['CONVICTED'])\n",
    "pd.crosstab(combi['OCC'],combi['CONVICTED'])\n",
    "pd.crosstab(train['OCC'],train['DEFAULTER'])\n",
    "pd.crosstab(combi['REASON'],combi['OCC'])"
   ]
  },
  {
   "cell_type": "code",
   "execution_count": 41,
   "metadata": {
    "collapsed": true
   },
   "outputs": [],
   "source": [
    "# Feature Engineering\n",
    "combi['Excess'] = combi['VALUE'] - combi['DUE_MORTGAGE']\n",
    "combi['%pay'] = combi['AMOUNT']/combi['Excess']\n",
    "combi['CLT_year'] = combi['CLT']/12\n",
    "combi['Income'] = combi['AMOUNT']/combi['RATIO']\n",
    "combi['ratio D/I'] = combi['DUE_MORTGAGE']/combi['Income']"
   ]
  },
  {
   "cell_type": "code",
   "execution_count": 44,
   "metadata": {
    "collapsed": true
   },
   "outputs": [],
   "source": [
    "combi['CL_COUNT per Y'] = combi['CL_COUNT']/combi['CLT_year']"
   ]
  },
  {
   "cell_type": "code",
   "execution_count": 45,
   "metadata": {
    "collapsed": true
   },
   "outputs": [],
   "source": [
    "combi['AMOUNT'] = np.log(combi['AMOUNT'])\n",
    "combi['VALUE'] = np.log(combi['VALUE'])\n",
    "combi['DUE_MORTGAGE'] = np.log(combi['DUE_MORTGAGE'])"
   ]
  },
  {
   "cell_type": "code",
   "execution_count": 46,
   "metadata": {
    "collapsed": true
   },
   "outputs": [],
   "source": [
    "# splitting combi in to train and test.\n",
    "trainf = combi.iloc[0:3576,:]\n",
    "testf = combi.iloc[3576:,:]"
   ]
  },
  {
   "cell_type": "code",
   "execution_count": 47,
   "metadata": {},
   "outputs": [
    {
     "name": "stderr",
     "output_type": "stream",
     "text": [
      "C:\\Users\\Akhand\\Anaconda3\\lib\\site-packages\\ipykernel_launcher.py:2: SettingWithCopyWarning: \n",
      "A value is trying to be set on a copy of a slice from a DataFrame\n",
      "\n",
      "See the caveats in the documentation: http://pandas.pydata.org/pandas-docs/stable/indexing.html#indexing-view-versus-copy\n",
      "  \n",
      "C:\\Users\\Akhand\\Anaconda3\\lib\\site-packages\\ipykernel_launcher.py:3: SettingWithCopyWarning: \n",
      "A value is trying to be set on a copy of a slice from a DataFrame\n",
      "\n",
      "See the caveats in the documentation: http://pandas.pydata.org/pandas-docs/stable/indexing.html#indexing-view-versus-copy\n",
      "  This is separate from the ipykernel package so we can avoid doing imports until\n",
      "C:\\Users\\Akhand\\Anaconda3\\lib\\site-packages\\ipykernel_launcher.py:4: SettingWithCopyWarning: \n",
      "A value is trying to be set on a copy of a slice from a DataFrame\n",
      "\n",
      "See the caveats in the documentation: http://pandas.pydata.org/pandas-docs/stable/indexing.html#indexing-view-versus-copy\n",
      "  after removing the cwd from sys.path.\n",
      "C:\\Users\\Akhand\\Anaconda3\\lib\\site-packages\\ipykernel_launcher.py:5: SettingWithCopyWarning: \n",
      "A value is trying to be set on a copy of a slice from a DataFrame\n",
      "\n",
      "See the caveats in the documentation: http://pandas.pydata.org/pandas-docs/stable/indexing.html#indexing-view-versus-copy\n",
      "  \"\"\"\n"
     ]
    }
   ],
   "source": [
    "# Dropping unrequired features\n",
    "trainf.drop('LOAN_ID',axis = 1,inplace = True)\n",
    "testf.drop('LOAN_ID',axis = 1,inplace = True)\n",
    "trainf.drop('CLT', axis =1, inplace = True)\n",
    "testf.drop('CLT', axis =1, inplace = True)"
   ]
  },
  {
   "cell_type": "code",
   "execution_count": 48,
   "metadata": {
    "collapsed": true
   },
   "outputs": [],
   "source": [
    "# Splitting trainf for CV \n",
    "from sklearn.model_selection import train_test_split\n",
    "x_train, x_test, y_train, y_test = train_test_split(trainf,train['DEFAULTER'],test_size = 0.25,random_state = 42,stratify=train['DEFAULTER'])"
   ]
  },
  {
   "cell_type": "code",
   "execution_count": 49,
   "metadata": {
    "collapsed": true
   },
   "outputs": [],
   "source": [
    "rfc = RandomForestClassifier(n_jobs=-1,max_features= 'sqrt' ,random_state = 42,n_estimators=300,max_depth = 20, oob_score = True) "
   ]
  },
  {
   "cell_type": "code",
   "execution_count": 50,
   "metadata": {},
   "outputs": [
    {
     "data": {
      "text/plain": [
       "RandomForestClassifier(bootstrap=True, class_weight=None, criterion='gini',\n",
       "            max_depth=20, max_features='sqrt', max_leaf_nodes=None,\n",
       "            min_impurity_decrease=0.0, min_impurity_split=None,\n",
       "            min_samples_leaf=1, min_samples_split=2,\n",
       "            min_weight_fraction_leaf=0.0, n_estimators=300, n_jobs=-1,\n",
       "            oob_score=True, random_state=42, verbose=0, warm_start=False)"
      ]
     },
     "execution_count": 50,
     "metadata": {},
     "output_type": "execute_result"
    }
   ],
   "source": [
    "rfc.fit(x_train,y_train)"
   ]
  },
  {
   "cell_type": "code",
   "execution_count": 51,
   "metadata": {},
   "outputs": [
    {
     "data": {
      "text/plain": [
       "0.93793190396268189"
      ]
     },
     "execution_count": 51,
     "metadata": {},
     "output_type": "execute_result"
    }
   ],
   "source": [
    "from sklearn import metrics\n",
    "y_pred1 = rfc.predict_proba(x_test)\n",
    "metrics.roc_auc_score(y_test,y_pred1[:,1])"
   ]
  },
  {
   "cell_type": "code",
   "execution_count": 52,
   "metadata": {},
   "outputs": [],
   "source": [
    "target = train['DEFAULTER']"
   ]
  },
  {
   "cell_type": "code",
   "execution_count": 53,
   "metadata": {},
   "outputs": [
    {
     "data": {
      "text/plain": [
       "RandomForestClassifier(bootstrap=True, class_weight=None, criterion='gini',\n",
       "            max_depth=20, max_features='sqrt', max_leaf_nodes=None,\n",
       "            min_impurity_decrease=0.0, min_impurity_split=None,\n",
       "            min_samples_leaf=1, min_samples_split=2,\n",
       "            min_weight_fraction_leaf=0.0, n_estimators=300, n_jobs=-1,\n",
       "            oob_score=True, random_state=42, verbose=0, warm_start=False)"
      ]
     },
     "execution_count": 53,
     "metadata": {},
     "output_type": "execute_result"
    }
   ],
   "source": [
    "rfc.fit(trainf,target)"
   ]
  },
  {
   "cell_type": "code",
   "execution_count": 54,
   "metadata": {
    "collapsed": true
   },
   "outputs": [],
   "source": [
    "predrf = rfc.predict_proba(testf)[:,1]"
   ]
  },
  {
   "cell_type": "code",
   "execution_count": 63,
   "metadata": {
    "scrolled": true
   },
   "outputs": [
    {
     "data": {
      "image/png": "[encoded data removed]",
      "text/plain": [
       "<matplotlib.figure.Figure at 0x2b42fa5c908>"
      ]
     },
     "metadata": {},
     "output_type": "display_data"
    }
   ],
   "source": [
    "features = x_train.columns\n",
    "importances = rfc.feature_importances_\n",
    "indices = np.argsort(importances)\n",
    "plt.title('Feature Importances')\n",
    "plt.barh(range(len(indices)), importances[indices], color='b', align='center')\n",
    "plt.yticks(range(len(indices)), features[indices])\n",
    "plt.xlabel('Relative Importance')\n",
    "plt.show()"
   ]
  },
  {
   "cell_type": "markdown",
   "metadata": {},
   "source": [
    "Now, training through XGBOOST"
   ]
  },
  {
   "cell_type": "code",
   "execution_count": 64,
   "metadata": {},
   "outputs": [],
   "source": [
    "from xgboost import XGBClassifier"
   ]
  },
  {
   "cell_type": "code",
   "execution_count": 71,
   "metadata": {},
   "outputs": [
    {
     "name": "stdout",
     "output_type": "stream",
     "text": [
      "[0]\tvalidation_0-auc:0.86616\tvalidation_1-auc:0.860333\n",
      "Multiple eval metrics have been passed: 'validation_1-auc' will be used for early stopping.\n",
      "\n",
      "Will train until validation_1-auc hasn't improved in 50 rounds.\n",
      "[1]\tvalidation_0-auc:0.901126\tvalidation_1-auc:0.86484\n",
      "[2]\tvalidation_0-auc:0.913669\tvalidation_1-auc:0.87965\n",
      "[3]\tvalidation_0-auc:0.913993\tvalidation_1-auc:0.878011\n",
      "[4]\tvalidation_0-auc:0.932057\tvalidation_1-auc:0.892187\n",
      "[5]\tvalidation_0-auc:0.941166\tvalidation_1-auc:0.908029\n",
      "[6]\tvalidation_0-auc:0.943434\tvalidation_1-auc:0.906709\n",
      "[7]\tvalidation_0-auc:0.941538\tvalidation_1-auc:0.907087\n",
      "[8]\tvalidation_0-auc:0.941241\tvalidation_1-auc:0.908249\n",
      "[9]\tvalidation_0-auc:0.944991\tvalidation_1-auc:0.908375\n",
      "[10]\tvalidation_0-auc:0.947415\tvalidation_1-auc:0.907847\n",
      "[11]\tvalidation_0-auc:0.94806\tvalidation_1-auc:0.907185\n",
      "[12]\tvalidation_0-auc:0.952482\tvalidation_1-auc:0.913143\n",
      "[13]\tvalidation_0-auc:0.953358\tvalidation_1-auc:0.912882\n",
      "[14]\tvalidation_0-auc:0.954781\tvalidation_1-auc:0.911862\n",
      "[15]\tvalidation_0-auc:0.954717\tvalidation_1-auc:0.910247\n",
      "[16]\tvalidation_0-auc:0.954527\tvalidation_1-auc:0.910381\n",
      "[17]\tvalidation_0-auc:0.954786\tvalidation_1-auc:0.90925\n",
      "[18]\tvalidation_0-auc:0.956594\tvalidation_1-auc:0.90691\n",
      "[19]\tvalidation_0-auc:0.957909\tvalidation_1-auc:0.910873\n",
      "[20]\tvalidation_0-auc:0.96076\tvalidation_1-auc:0.914537\n",
      "[21]\tvalidation_0-auc:0.963158\tvalidation_1-auc:0.913158\n",
      "[22]\tvalidation_0-auc:0.96499\tvalidation_1-auc:0.913213\n",
      "[23]\tvalidation_0-auc:0.966179\tvalidation_1-auc:0.913954\n",
      "[24]\tvalidation_0-auc:0.965773\tvalidation_1-auc:0.914049\n",
      "[25]\tvalidation_0-auc:0.967019\tvalidation_1-auc:0.914679\n",
      "[26]\tvalidation_0-auc:0.967813\tvalidation_1-auc:0.913466\n",
      "[27]\tvalidation_0-auc:0.967677\tvalidation_1-auc:0.912362\n",
      "[28]\tvalidation_0-auc:0.967585\tvalidation_1-auc:0.912252\n",
      "[29]\tvalidation_0-auc:0.968191\tvalidation_1-auc:0.911716\n",
      "[30]\tvalidation_0-auc:0.969431\tvalidation_1-auc:0.914324\n",
      "[31]\tvalidation_0-auc:0.969374\tvalidation_1-auc:0.91367\n",
      "[32]\tvalidation_0-auc:0.97053\tvalidation_1-auc:0.91512\n",
      "[33]\tvalidation_0-auc:0.971341\tvalidation_1-auc:0.914348\n",
      "[34]\tvalidation_0-auc:0.972933\tvalidation_1-auc:0.915435\n",
      "[35]\tvalidation_0-auc:0.974406\tvalidation_1-auc:0.91564\n",
      "[36]\tvalidation_0-auc:0.975003\tvalidation_1-auc:0.917043\n",
      "[37]\tvalidation_0-auc:0.976045\tvalidation_1-auc:0.918099\n",
      "[38]\tvalidation_0-auc:0.977102\tvalidation_1-auc:0.918603\n",
      "[39]\tvalidation_0-auc:0.978201\tvalidation_1-auc:0.918761\n",
      "[40]\tvalidation_0-auc:0.97857\tvalidation_1-auc:0.919714\n",
      "[41]\tvalidation_0-auc:0.97908\tvalidation_1-auc:0.919486\n",
      "[42]\tvalidation_0-auc:0.979474\tvalidation_1-auc:0.920321\n",
      "[43]\tvalidation_0-auc:0.979982\tvalidation_1-auc:0.920825\n",
      "[44]\tvalidation_0-auc:0.979925\tvalidation_1-auc:0.92077\n",
      "[45]\tvalidation_0-auc:0.980716\tvalidation_1-auc:0.921747\n",
      "[46]\tvalidation_0-auc:0.981371\tvalidation_1-auc:0.921511\n",
      "[47]\tvalidation_0-auc:0.982113\tvalidation_1-auc:0.921684\n",
      "[48]\tvalidation_0-auc:0.982801\tvalidation_1-auc:0.922307\n",
      "[49]\tvalidation_0-auc:0.982993\tvalidation_1-auc:0.922299\n",
      "[50]\tvalidation_0-auc:0.983619\tvalidation_1-auc:0.922314\n",
      "[51]\tvalidation_0-auc:0.98323\tvalidation_1-auc:0.922448\n",
      "[52]\tvalidation_0-auc:0.983756\tvalidation_1-auc:0.922417\n",
      "[53]\tvalidation_0-auc:0.984412\tvalidation_1-auc:0.923867\n",
      "[54]\tvalidation_0-auc:0.985055\tvalidation_1-auc:0.923481\n",
      "[55]\tvalidation_0-auc:0.984906\tvalidation_1-auc:0.923638\n",
      "[56]\tvalidation_0-auc:0.985159\tvalidation_1-auc:0.922795\n",
      "[57]\tvalidation_0-auc:0.985412\tvalidation_1-auc:0.922669\n",
      "[58]\tvalidation_0-auc:0.985162\tvalidation_1-auc:0.922606\n",
      "[59]\tvalidation_0-auc:0.985736\tvalidation_1-auc:0.922921\n",
      "[60]\tvalidation_0-auc:0.986097\tvalidation_1-auc:0.922748\n",
      "[61]\tvalidation_0-auc:0.986459\tvalidation_1-auc:0.924379\n",
      "[62]\tvalidation_0-auc:0.986166\tvalidation_1-auc:0.924458\n",
      "[63]\tvalidation_0-auc:0.986333\tvalidation_1-auc:0.924962\n",
      "[64]\tvalidation_0-auc:0.986571\tvalidation_1-auc:0.924852\n",
      "[65]\tvalidation_0-auc:0.986923\tvalidation_1-auc:0.925198\n",
      "[66]\tvalidation_0-auc:0.986714\tvalidation_1-auc:0.92482\n",
      "[67]\tvalidation_0-auc:0.987304\tvalidation_1-auc:0.926262\n",
      "[68]\tvalidation_0-auc:0.98707\tvalidation_1-auc:0.925718\n",
      "[69]\tvalidation_0-auc:0.987296\tvalidation_1-auc:0.92534\n",
      "[70]\tvalidation_0-auc:0.987268\tvalidation_1-auc:0.924647\n",
      "[71]\tvalidation_0-auc:0.987791\tvalidation_1-auc:0.926231\n",
      "[72]\tvalidation_0-auc:0.988155\tvalidation_1-auc:0.92575\n",
      "[73]\tvalidation_0-auc:0.9883\tvalidation_1-auc:0.925671\n",
      "[74]\tvalidation_0-auc:0.98872\tvalidation_1-auc:0.926278\n",
      "[75]\tvalidation_0-auc:0.989127\tvalidation_1-auc:0.926877\n",
      "[76]\tvalidation_0-auc:0.989431\tvalidation_1-auc:0.92772\n",
      "[77]\tvalidation_0-auc:0.989513\tvalidation_1-auc:0.92709\n",
      "[78]\tvalidation_0-auc:0.98959\tvalidation_1-auc:0.927342\n",
      "[79]\tvalidation_0-auc:0.98968\tvalidation_1-auc:0.927625\n",
      "[80]\tvalidation_0-auc:0.989929\tvalidation_1-auc:0.927578\n",
      "[81]\tvalidation_0-auc:0.989779\tvalidation_1-auc:0.927279\n",
      "[82]\tvalidation_0-auc:0.989826\tvalidation_1-auc:0.926869\n",
      "[83]\tvalidation_0-auc:0.9902\tvalidation_1-auc:0.927145\n",
      "[84]\tvalidation_0-auc:0.990198\tvalidation_1-auc:0.926309\n",
      "[85]\tvalidation_0-auc:0.990615\tvalidation_1-auc:0.926215\n",
      "[86]\tvalidation_0-auc:0.991074\tvalidation_1-auc:0.925529\n",
      "[87]\tvalidation_0-auc:0.991011\tvalidation_1-auc:0.925537\n",
      "[88]\tvalidation_0-auc:0.991207\tvalidation_1-auc:0.925726\n",
      "[89]\tvalidation_0-auc:0.991307\tvalidation_1-auc:0.924844\n",
      "[90]\tvalidation_0-auc:0.991639\tvalidation_1-auc:0.92523\n",
      "[91]\tvalidation_0-auc:0.991779\tvalidation_1-auc:0.925285\n",
      "[92]\tvalidation_0-auc:0.991912\tvalidation_1-auc:0.925301\n",
      "[93]\tvalidation_0-auc:0.992085\tvalidation_1-auc:0.925474\n",
      "[94]\tvalidation_0-auc:0.992295\tvalidation_1-auc:0.926483\n",
      "[95]\tvalidation_0-auc:0.992616\tvalidation_1-auc:0.926467\n",
      "[96]\tvalidation_0-auc:0.992843\tvalidation_1-auc:0.926349\n",
      "[97]\tvalidation_0-auc:0.993098\tvalidation_1-auc:0.926625\n",
      "[98]\tvalidation_0-auc:0.993281\tvalidation_1-auc:0.927129\n",
      "[99]\tvalidation_0-auc:0.993451\tvalidation_1-auc:0.927452\n",
      "[100]\tvalidation_0-auc:0.993759\tvalidation_1-auc:0.927539\n",
      "[101]\tvalidation_0-auc:0.993954\tvalidation_1-auc:0.927807\n",
      "[102]\tvalidation_0-auc:0.994199\tvalidation_1-auc:0.92809\n",
      "[103]\tvalidation_0-auc:0.99435\tvalidation_1-auc:0.928626\n",
      "[104]\tvalidation_0-auc:0.994551\tvalidation_1-auc:0.928547\n",
      "[105]\tvalidation_0-auc:0.994504\tvalidation_1-auc:0.928918\n",
      "[106]\tvalidation_0-auc:0.994628\tvalidation_1-auc:0.929682\n",
      "[107]\tvalidation_0-auc:0.99483\tvalidation_1-auc:0.929461\n",
      "[108]\tvalidation_0-auc:0.994913\tvalidation_1-auc:0.929319\n",
      "[109]\tvalidation_0-auc:0.995044\tvalidation_1-auc:0.928918\n",
      "[110]\tvalidation_0-auc:0.995218\tvalidation_1-auc:0.928768\n",
      "[111]\tvalidation_0-auc:0.995344\tvalidation_1-auc:0.929059\n",
      "[112]\tvalidation_0-auc:0.995372\tvalidation_1-auc:0.928878\n",
      "[113]\tvalidation_0-auc:0.995572\tvalidation_1-auc:0.929973\n",
      "[114]\tvalidation_0-auc:0.99569\tvalidation_1-auc:0.929556\n",
      "[115]\tvalidation_0-auc:0.995914\tvalidation_1-auc:0.93047\n",
      "[116]\tvalidation_0-auc:0.996033\tvalidation_1-auc:0.930887\n",
      "[117]\tvalidation_0-auc:0.996113\tvalidation_1-auc:0.931132\n",
      "[118]\tvalidation_0-auc:0.996282\tvalidation_1-auc:0.931029\n",
      "[119]\tvalidation_0-auc:0.996321\tvalidation_1-auc:0.930462\n",
      "[120]\tvalidation_0-auc:0.996369\tvalidation_1-auc:0.930036\n",
      "[121]\tvalidation_0-auc:0.996516\tvalidation_1-auc:0.930525\n",
      "[122]\tvalidation_0-auc:0.996692\tvalidation_1-auc:0.930564\n",
      "[123]\tvalidation_0-auc:0.996738\tvalidation_1-auc:0.930257\n",
      "[124]\tvalidation_0-auc:0.996724\tvalidation_1-auc:0.929729\n",
      "[125]\tvalidation_0-auc:0.99673\tvalidation_1-auc:0.929493\n",
      "[126]\tvalidation_0-auc:0.996839\tvalidation_1-auc:0.929564\n",
      "[127]\tvalidation_0-auc:0.996992\tvalidation_1-auc:0.929784\n",
      "[128]\tvalidation_0-auc:0.997081\tvalidation_1-auc:0.92965\n",
      "[129]\tvalidation_0-auc:0.997181\tvalidation_1-auc:0.93021\n",
      "[130]\tvalidation_0-auc:0.997202\tvalidation_1-auc:0.929761\n",
      "[131]\tvalidation_0-auc:0.997344\tvalidation_1-auc:0.929769\n",
      "[132]\tvalidation_0-auc:0.997413\tvalidation_1-auc:0.929737\n",
      "[133]\tvalidation_0-auc:0.99747\tvalidation_1-auc:0.929611\n",
      "[134]\tvalidation_0-auc:0.997527\tvalidation_1-auc:0.929666\n",
      "[135]\tvalidation_0-auc:0.997496\tvalidation_1-auc:0.929453\n",
      "[136]\tvalidation_0-auc:0.997567\tvalidation_1-auc:0.929146\n",
      "[137]\tvalidation_0-auc:0.99762\tvalidation_1-auc:0.92939\n",
      "[138]\tvalidation_0-auc:0.997692\tvalidation_1-auc:0.929461\n",
      "[139]\tvalidation_0-auc:0.997703\tvalidation_1-auc:0.929509\n",
      "[140]\tvalidation_0-auc:0.997753\tvalidation_1-auc:0.929642\n",
      "[141]\tvalidation_0-auc:0.997805\tvalidation_1-auc:0.929832\n"
     ]
    },
    {
     "name": "stdout",
     "output_type": "stream",
     "text": [
      "[142]\tvalidation_0-auc:0.997888\tvalidation_1-auc:0.930052\n",
      "[143]\tvalidation_0-auc:0.997926\tvalidation_1-auc:0.930186\n",
      "[144]\tvalidation_0-auc:0.997964\tvalidation_1-auc:0.929958\n",
      "[145]\tvalidation_0-auc:0.998032\tvalidation_1-auc:0.930557\n",
      "[146]\tvalidation_0-auc:0.99808\tvalidation_1-auc:0.931155\n",
      "[147]\tvalidation_0-auc:0.998127\tvalidation_1-auc:0.931061\n",
      "[148]\tvalidation_0-auc:0.998187\tvalidation_1-auc:0.931084\n",
      "[149]\tvalidation_0-auc:0.998248\tvalidation_1-auc:0.931305\n",
      "[150]\tvalidation_0-auc:0.998268\tvalidation_1-auc:0.931155\n",
      "[151]\tvalidation_0-auc:0.998333\tvalidation_1-auc:0.931494\n",
      "[152]\tvalidation_0-auc:0.998373\tvalidation_1-auc:0.931865\n",
      "[153]\tvalidation_0-auc:0.998368\tvalidation_1-auc:0.931928\n",
      "[154]\tvalidation_0-auc:0.998438\tvalidation_1-auc:0.932077\n",
      "[155]\tvalidation_0-auc:0.998454\tvalidation_1-auc:0.932046\n",
      "[156]\tvalidation_0-auc:0.998495\tvalidation_1-auc:0.932298\n",
      "[157]\tvalidation_0-auc:0.998515\tvalidation_1-auc:0.932377\n",
      "[158]\tvalidation_0-auc:0.99858\tvalidation_1-auc:0.932755\n",
      "[159]\tvalidation_0-auc:0.998608\tvalidation_1-auc:0.93307\n",
      "[160]\tvalidation_0-auc:0.99867\tvalidation_1-auc:0.932968\n",
      "[161]\tvalidation_0-auc:0.998704\tvalidation_1-auc:0.933409\n",
      "[162]\tvalidation_0-auc:0.99874\tvalidation_1-auc:0.933441\n",
      "[163]\tvalidation_0-auc:0.998788\tvalidation_1-auc:0.933779\n",
      "[164]\tvalidation_0-auc:0.998809\tvalidation_1-auc:0.934244\n",
      "[165]\tvalidation_0-auc:0.99884\tvalidation_1-auc:0.934504\n",
      "[166]\tvalidation_0-auc:0.998879\tvalidation_1-auc:0.934386\n",
      "[167]\tvalidation_0-auc:0.998911\tvalidation_1-auc:0.934315\n",
      "[168]\tvalidation_0-auc:0.998944\tvalidation_1-auc:0.93467\n",
      "[169]\tvalidation_0-auc:0.998951\tvalidation_1-auc:0.934378\n",
      "[170]\tvalidation_0-auc:0.998963\tvalidation_1-auc:0.934646\n",
      "[171]\tvalidation_0-auc:0.99898\tvalidation_1-auc:0.934796\n",
      "[172]\tvalidation_0-auc:0.998993\tvalidation_1-auc:0.93463\n",
      "[173]\tvalidation_0-auc:0.999013\tvalidation_1-auc:0.934646\n",
      "[174]\tvalidation_0-auc:0.999024\tvalidation_1-auc:0.934922\n",
      "[175]\tvalidation_0-auc:0.999042\tvalidation_1-auc:0.934685\n",
      "[176]\tvalidation_0-auc:0.999042\tvalidation_1-auc:0.934788\n",
      "[177]\tvalidation_0-auc:0.999072\tvalidation_1-auc:0.934741\n",
      "[178]\tvalidation_0-auc:0.999104\tvalidation_1-auc:0.934812\n",
      "[179]\tvalidation_0-auc:0.999099\tvalidation_1-auc:0.934804\n",
      "[180]\tvalidation_0-auc:0.999112\tvalidation_1-auc:0.934749\n",
      "[181]\tvalidation_0-auc:0.999117\tvalidation_1-auc:0.934599\n",
      "[182]\tvalidation_0-auc:0.999148\tvalidation_1-auc:0.934441\n",
      "[183]\tvalidation_0-auc:0.999173\tvalidation_1-auc:0.934276\n",
      "[184]\tvalidation_0-auc:0.999181\tvalidation_1-auc:0.934087\n",
      "[185]\tvalidation_0-auc:0.999187\tvalidation_1-auc:0.934008\n",
      "[186]\tvalidation_0-auc:0.999213\tvalidation_1-auc:0.933897\n",
      "[187]\tvalidation_0-auc:0.999229\tvalidation_1-auc:0.933968\n",
      "[188]\tvalidation_0-auc:0.999247\tvalidation_1-auc:0.933953\n",
      "[189]\tvalidation_0-auc:0.99926\tvalidation_1-auc:0.934165\n",
      "[190]\tvalidation_0-auc:0.999296\tvalidation_1-auc:0.934071\n",
      "[191]\tvalidation_0-auc:0.999306\tvalidation_1-auc:0.934252\n",
      "[192]\tvalidation_0-auc:0.999315\tvalidation_1-auc:0.934197\n",
      "[193]\tvalidation_0-auc:0.999338\tvalidation_1-auc:0.934173\n",
      "[194]\tvalidation_0-auc:0.999349\tvalidation_1-auc:0.934142\n",
      "[195]\tvalidation_0-auc:0.999343\tvalidation_1-auc:0.934087\n",
      "[196]\tvalidation_0-auc:0.99937\tvalidation_1-auc:0.934323\n",
      "[197]\tvalidation_0-auc:0.99938\tvalidation_1-auc:0.934323\n",
      "[198]\tvalidation_0-auc:0.999411\tvalidation_1-auc:0.934441\n",
      "[199]\tvalidation_0-auc:0.999405\tvalidation_1-auc:0.934362\n"
     ]
    },
    {
     "data": {
      "text/plain": [
       "XGBClassifier(base_score=0.5, colsample_bylevel=1, colsample_bytree=0.3,\n",
       "       gamma=0.1, learning_rate=0.05, max_delta_step=0, max_depth=8,\n",
       "       min_child_weight=3, missing=None, n_estimators=200, nthread=-1,\n",
       "       objective='binary:logistic', reg_alpha=0, reg_lambda=1,\n",
       "       scale_pos_weight=1, seed=1024, silent=True, subsample=0.8)"
      ]
     },
     "execution_count": 71,
     "metadata": {},
     "output_type": "execute_result"
    }
   ],
   "source": [
    "# fit model no training data\n",
    "params={\n",
    "    'n_estimators':200,\n",
    "    'objective': 'binary:logistic',\n",
    "    'learning_rate': 0.05,\n",
    "    'gamma':0.1,\n",
    "    'subsample':0.8,\n",
    "    'colsample_bytree':0.3,\n",
    "    'min_child_weight':3,\n",
    "    'max_depth':8,\n",
    "    'seed':1024,\n",
    "    }\n",
    "\n",
    "clf = XGBClassifier(**params)\n",
    "clf.fit(x_train, y_train, \\\n",
    "        eval_set=[(x_train, y_train), (x_test, y_test)], \\\n",
    "                  eval_metric='auc', early_stopping_rounds = 50)"
   ]
  },
  {
   "cell_type": "code",
   "execution_count": 72,
   "metadata": {
    "collapsed": true
   },
   "outputs": [],
   "source": [
    "# make predictions for test data\n",
    "y_pred = clf.predict_proba(x_test)[:,1]"
   ]
  },
  {
   "cell_type": "code",
   "execution_count": 73,
   "metadata": {},
   "outputs": [
    {
     "data": {
      "text/plain": [
       "0.9343624171650553"
      ]
     },
     "execution_count": 73,
     "metadata": {},
     "output_type": "execute_result"
    }
   ],
   "source": [
    "metrics.roc_auc_score(y_test,y_pred)"
   ]
  },
  {
   "cell_type": "code",
   "execution_count": 74,
   "metadata": {},
   "outputs": [
    {
     "data": {
      "image/png": "[encoded data removed]",
      "text/plain": [
       "<matplotlib.figure.Figure at 0x2b43245c4e0>"
      ]
     },
     "metadata": {},
     "output_type": "display_data"
    }
   ],
   "source": [
    "from xgboost import plot_importance\n",
    "plot_importance(clf)\n",
    "pyplot.show()"
   ]
  },
  {
   "cell_type": "code",
   "execution_count": 75,
   "metadata": {},
   "outputs": [
    {
     "data": {
      "text/plain": [
       "XGBClassifier(base_score=0.5, colsample_bylevel=1, colsample_bytree=0.3,\n",
       "       gamma=0.1, learning_rate=0.05, max_delta_step=0, max_depth=8,\n",
       "       min_child_weight=3, missing=None, n_estimators=200, nthread=-1,\n",
       "       objective='binary:logistic', reg_alpha=0, reg_lambda=1,\n",
       "       scale_pos_weight=1, seed=1024, silent=True, subsample=0.8)"
      ]
     },
     "execution_count": 75,
     "metadata": {},
     "output_type": "execute_result"
    }
   ],
   "source": [
    "clf.fit(trainf,target)"
   ]
  },
  {
   "cell_type": "code",
   "execution_count": 76,
   "metadata": {
    "collapsed": true
   },
   "outputs": [],
   "source": [
    "pred = clf.predict_proba(testf)[:,1]"
   ]
  },
  {
   "cell_type": "markdown",
   "metadata": {},
   "source": [
    "Using Ensemble "
   ]
  },
  {
   "cell_type": "code",
   "execution_count": 77,
   "metadata": {
    "collapsed": true
   },
   "outputs": [],
   "source": [
    "pred = predrf*0.4 + pred*0.6"
   ]
  },
  {
   "cell_type": "code",
   "execution_count": 79,
   "metadata": {},
   "outputs": [],
   "source": [
    "# Make submission file and submit\n",
    "submission = pd.DataFrame({'LOAN_ID':test['LOAN_ID'],'DEFAULTER':pred},columns=['LOAN_ID','DEFAULTER'])\n",
    "submission.to_csv('Technex3.csv', index = False)"
   ]
  }
 ],
 "metadata": {
  "kernelspec": {
   "display_name": "Python 3",
   "language": "python",
   "name": "python3"
  },
  "language_info": {
   "codemirror_mode": {
    "name": "ipython",
    "version": 3
   },
   "file_extension": ".py",
   "mimetype": "text/x-python",
   "name": "python",
   "nbconvert_exporter": "python",
   "pygments_lexer": "ipython3",
   "version": "3.6.2"
  }
 },
 "nbformat": 4,
 "nbformat_minor": 2
}
